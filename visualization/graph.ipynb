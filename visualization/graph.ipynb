{
 "cells": [
  {
   "attachments": {},
   "cell_type": "markdown",
   "metadata": {},
   "source": [
    "# Visualization for Delegation Based Lock"
   ]
  },
  {
   "cell_type": "code",
   "execution_count": null,
   "metadata": {},
   "outputs": [],
   "source": [
    "@time using DataFrames, CSV\n",
    "\n",
    "bench = @time CSV.read(\"output/output.csv\", DataFrame)\n"
   ]
  },
  {
   "cell_type": "code",
   "execution_count": null,
   "metadata": {},
   "outputs": [],
   "source": [
    "using AlgebraOfGraphics, CairoMakie\n",
    "using AlgebraOfGraphics: density\n",
    "using Tidier\n",
    "\n",
    "CairoMakie.activate!(type = \"svg\")\n",
    "\n",
    "\n",
    "fig = Figure(resolution = (1200, 600))\n",
    "\n",
    "loop_comparison = ((@chain bench begin\n",
    "        Tidier.@filter(ThreadNum == 16)\n",
    "end) |> data) * mapping(:LoopCount, layout = :Locktype, color = :Locktype) * histogram(bins = 20)\n",
    "    \n",
    "# savefig(loop_comparison, \"graphs/loop_comparison.svg\")\n",
    "draw!(fig, loop_comparison)\n",
    "\n",
    "save(\"graphs/loop_comparison_per_thread.svg\", fig)\n",
    "\n",
    "fig"
   ]
  },
  {
   "cell_type": "code",
   "execution_count": null,
   "metadata": {},
   "outputs": [],
   "source": [
    "using Tidier\n",
    "using AlgebraOfGraphics, CairoMakie\n",
    "\n",
    "bench2 = @chain bench begin\n",
    "    @group_by(Locktype, ThreadNum)\n",
    "    @summarise(LoopCount = sum(LoopCount))\n",
    "    @ungroup\n",
    "end\n",
    "\n",
    "plt = data(bench2) * mapping(:ThreadNum, :LoopCount, color = :Locktype) * (visual(Lines) + visual(Scatter))\n",
    "\n",
    "fig = draw(plt, figure = (resolution=(1200,600),))\n",
    "\n",
    "save(\"graphs/loop_comparison.svg\", fig)\n",
    "\n",
    "fig"
   ]
  },
  {
   "cell_type": "code",
   "execution_count": null,
   "metadata": {},
   "outputs": [],
   "source": [
    "using DataFrames, Tidier, AlgebraOfGraphics, CairoMakie\n",
    "\n",
    "bench_32thread = @chain dropmissing(bench) begin\n",
    "    Tidier.@filter(ThreadNum == 16)\n",
    "end\n",
    "\n",
    "plt = data(bench_32thread) * mapping(:Locktype, :CombineTime) * visual(BoxPlot)\n",
    "\n",
    "\n",
    "fig = draw(plt, axis=(xticklabelrotation=pi/5,), figure = (resolution=(1000,600),))\n",
    "\n",
    "save(\"graphs/combining_time_box_plot.svg\", fig)\n",
    "\n",
    "fig"
   ]
  }
 ],
 "metadata": {
  "kernelspec": {
   "display_name": "Julia 1.9.2",
   "language": "julia",
   "name": "julia-1.9"
  },
  "language_info": {
   "file_extension": ".jl",
   "mimetype": "application/julia",
   "name": "julia",
   "version": "1.9.2"
  },
  "orig_nbformat": 4
 },
 "nbformat": 4,
 "nbformat_minor": 2
}
